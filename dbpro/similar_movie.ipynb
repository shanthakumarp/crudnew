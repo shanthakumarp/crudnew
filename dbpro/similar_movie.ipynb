{
 "cells": [
  {
   "cell_type": "code",
   "execution_count": 36,
   "metadata": {
    "collapsed": true
   },
   "outputs": [],
   "source": [
    "import pandas as pd\n",
    "import numpy as np"
   ]
  },
  {
   "cell_type": "code",
   "execution_count": 27,
   "metadata": {},
   "outputs": [],
   "source": [
    "data = pd.read_csv('movie_prediction_data.csv')"
   ]
  },
  {
   "cell_type": "code",
   "execution_count": 28,
   "metadata": {
    "collapsed": true
   },
   "outputs": [],
   "source": [
    "## Taking out the first row of data for testing\n",
    "test_row = data.head(1)"
   ]
  },
  {
   "cell_type": "code",
   "execution_count": 29,
   "metadata": {
    "collapsed": true
   },
   "outputs": [],
   "source": [
    "## Resetting the dataframe excluding the top row\n",
    "data = data.iloc[1:]\n",
    "data = data.reset_index(drop = True)"
   ]
  },
  {
   "cell_type": "code",
   "execution_count": 30,
   "metadata": {},
   "outputs": [
    {
     "data": {
      "text/html": [
       "<div>\n",
       "<style scoped>\n",
       "    .dataframe tbody tr th:only-of-type {\n",
       "        vertical-align: middle;\n",
       "    }\n",
       "\n",
       "    .dataframe tbody tr th {\n",
       "        vertical-align: top;\n",
       "    }\n",
       "\n",
       "    .dataframe thead th {\n",
       "        text-align: right;\n",
       "    }\n",
       "</style>\n",
       "<table border=\"1\" class=\"dataframe\">\n",
       "  <thead>\n",
       "    <tr style=\"text-align: right;\">\n",
       "      <th></th>\n",
       "      <th>title</th>\n",
       "      <th>production</th>\n",
       "      <th>release_year</th>\n",
       "      <th>genre1</th>\n",
       "      <th>genre2</th>\n",
       "      <th>genre3</th>\n",
       "      <th>director1</th>\n",
       "      <th>director2</th>\n",
       "      <th>actor1</th>\n",
       "      <th>actor2</th>\n",
       "      <th>actor3</th>\n",
       "      <th>budget</th>\n",
       "      <th>production_country</th>\n",
       "    </tr>\n",
       "  </thead>\n",
       "  <tbody>\n",
       "    <tr>\n",
       "      <th>0</th>\n",
       "      <td>Hereditary</td>\n",
       "      <td>PalmStar Media</td>\n",
       "      <td>2018</td>\n",
       "      <td>Drama</td>\n",
       "      <td>Horror</td>\n",
       "      <td>Mystery</td>\n",
       "      <td>Ari Aster</td>\n",
       "      <td>NaN</td>\n",
       "      <td>Alex Wolff</td>\n",
       "      <td>Gabriel Byrne</td>\n",
       "      <td>Toni Collette</td>\n",
       "      <td>10.0</td>\n",
       "      <td>US</td>\n",
       "    </tr>\n",
       "    <tr>\n",
       "      <th>1</th>\n",
       "      <td>Unfriended: Dark Web</td>\n",
       "      <td>Bazelevs Production</td>\n",
       "      <td>2018</td>\n",
       "      <td>Horror</td>\n",
       "      <td>NaN</td>\n",
       "      <td>NaN</td>\n",
       "      <td>Stephen Susco</td>\n",
       "      <td>NaN</td>\n",
       "      <td>Rebecca Rittenhouse</td>\n",
       "      <td>Betty Gabriel</td>\n",
       "      <td>Colin Woodell</td>\n",
       "      <td>1.0</td>\n",
       "      <td>RU</td>\n",
       "    </tr>\n",
       "    <tr>\n",
       "      <th>2</th>\n",
       "      <td>Split</td>\n",
       "      <td>Blinding Edge Pictures</td>\n",
       "      <td>2016</td>\n",
       "      <td>Horror</td>\n",
       "      <td>Thriller</td>\n",
       "      <td>NaN</td>\n",
       "      <td>M. Night Shyamalan</td>\n",
       "      <td>NaN</td>\n",
       "      <td>James McAvoy</td>\n",
       "      <td>Anya Taylor-Joy</td>\n",
       "      <td>Betty Buckley</td>\n",
       "      <td>9.0</td>\n",
       "      <td>US</td>\n",
       "    </tr>\n",
       "    <tr>\n",
       "      <th>3</th>\n",
       "      <td>Truth or Dare</td>\n",
       "      <td>Blumhouse Productions</td>\n",
       "      <td>2018</td>\n",
       "      <td>Horror</td>\n",
       "      <td>Thriller</td>\n",
       "      <td>NaN</td>\n",
       "      <td>Jeff Wadlow</td>\n",
       "      <td>NaN</td>\n",
       "      <td>Lucy Hale</td>\n",
       "      <td>Tyler Posey</td>\n",
       "      <td>Violett Beane</td>\n",
       "      <td>3.5</td>\n",
       "      <td>US</td>\n",
       "    </tr>\n",
       "    <tr>\n",
       "      <th>4</th>\n",
       "      <td>The Row</td>\n",
       "      <td>Emmett/Furla/Oasis Films (EFO Films)</td>\n",
       "      <td>2018</td>\n",
       "      <td>Thriller</td>\n",
       "      <td>NaN</td>\n",
       "      <td>NaN</td>\n",
       "      <td>Matty Beckerman</td>\n",
       "      <td>NaN</td>\n",
       "      <td>Colin Egglesfield</td>\n",
       "      <td>Mia Rose Frampton</td>\n",
       "      <td>Lala Kent</td>\n",
       "      <td>4.0</td>\n",
       "      <td>US</td>\n",
       "    </tr>\n",
       "  </tbody>\n",
       "</table>\n",
       "</div>"
      ],
      "text/plain": [
       "                  title                               production  \\\n",
       "0            Hereditary                          PalmStar Media    \n",
       "1  Unfriended: Dark Web                     Bazelevs Production    \n",
       "2                 Split                  Blinding Edge Pictures    \n",
       "3         Truth or Dare                   Blumhouse Productions    \n",
       "4               The Row    Emmett/Furla/Oasis Films (EFO Films)    \n",
       "\n",
       "   release_year     genre1     genre2    genre3            director1  \\\n",
       "0          2018     Drama     Horror    Mystery            Ari Aster   \n",
       "1          2018     Horror        NaN       NaN        Stephen Susco   \n",
       "2          2016    Horror    Thriller       NaN   M. Night Shyamalan   \n",
       "3          2018    Horror    Thriller       NaN          Jeff Wadlow   \n",
       "4          2018   Thriller        NaN       NaN      Matty Beckerman   \n",
       "\n",
       "  director2               actor1               actor2           actor3  \\\n",
       "0       NaN           Alex Wolff        Gabriel Byrne    Toni Collette   \n",
       "1       NaN  Rebecca Rittenhouse        Betty Gabriel    Colin Woodell   \n",
       "2       NaN         James McAvoy      Anya Taylor-Joy    Betty Buckley   \n",
       "3       NaN            Lucy Hale          Tyler Posey    Violett Beane   \n",
       "4       NaN    Colin Egglesfield    Mia Rose Frampton        Lala Kent   \n",
       "\n",
       "   budget production_country  \n",
       "0    10.0                 US  \n",
       "1     1.0                 RU  \n",
       "2     9.0                 US  \n",
       "3     3.5                 US  \n",
       "4     4.0                 US  "
      ]
     },
     "execution_count": 30,
     "metadata": {},
     "output_type": "execute_result"
    }
   ],
   "source": [
    "data.head(5)"
   ]
  },
  {
   "cell_type": "markdown",
   "metadata": {},
   "source": [
    "# Method 1: Using goodall4 and categorical match with taking budget into consideration"
   ]
  },
  {
   "cell_type": "code",
   "execution_count": 42,
   "metadata": {
    "collapsed": true
   },
   "outputs": [],
   "source": [
    "def goodall4(data):\n",
    "        score = np.zeros((data.shape[0], data.shape[0]))\n",
    "        p_2_k_d = [dict(zip(np.unique(data[:, x], return_counts=True)[0], 1.*np.unique(data[:, x], return_counts=True)[1]*(np.unique(data[:, x], return_counts=True)[1]-1)/data.shape[0]/(data.shape[0]-1))) for x in range(data.shape[1])]\n",
    "        for i, X in enumerate(data):\n",
    "            tmp_bool = data==X\n",
    "            tmp_x = np.zeros(data.shape)\n",
    "            for k in range(data.shape[1]):\n",
    "                tmp_x[:, k][tmp_bool[:, k] == True] = 1. * p_2_k_d[k].get(X[k], 0) / data.shape[1]\n",
    "            score[i] = np.sum(tmp_x, axis=1)\n",
    "        return score[0][0]"
   ]
  },
  {
   "cell_type": "code",
   "execution_count": 33,
   "metadata": {
    "collapsed": true
   },
   "outputs": [],
   "source": [
    "## considering only title, production and production_country for goodall4 measure\n",
    "totaldata = data[['title','production','production_country']].values"
   ]
  },
  {
   "cell_type": "code",
   "execution_count": 44,
   "metadata": {},
   "outputs": [],
   "source": [
    "testrow_cat = test_row[['title', 'production', 'production_country']].values.tolist()[0]\n",
    "testrow_gen = test_row[['genre1', 'genre2', 'genre3']].values.tolist()[0]\n",
    "testrow_dir = test_row[['director1', 'director2']].values.tolist()[0]\n",
    "testrow_actr = test_row[['actor1', 'actor2', 'actor3']].values.tolist()[0]\n",
    "similarity_dict = {}\n",
    "alldata = np.vstack([totaldata, test_row[['title', 'production', 'production_country']].values[0]])\n",
    "#p_2_k_d = [dict(zip(np.unique(alldata[:, x], return_counts=True)[0], 1.*np.unique(alldata[:, x], return_counts=True)[1]*(np.unique(alldata[:, x], return_counts=True)[1]-1)/alldata.shape[0]/(alldata.shape[0]-1))) for x in range(alldata.shape[1])]\n",
    "for index,row  in data.iterrows():\n",
    "    cat = (row[['title', 'production', 'production_country']].values.tolist())\n",
    "    gen = row[['genre1', 'genre2', 'genre3']].astype(str).values.tolist()\n",
    "    dire = row[['director1', 'director2']].astype(str).values.tolist()\n",
    "    actr = row[['actor1', 'actor2', 'actor3']].astype(str).values.tolist()\n",
    "    temp_data = np.array([testrow_cat, cat])\n",
    "    goodallsim = goodall4(temp_data)\n",
    "    gensim = len(set(testrow_gen)&set(gen)) / float(len(set(testrow_gen) | set(gen)))\n",
    "    dirsim = len(set(testrow_dir)&set(dire)) / float(len(set(testrow_dir) | set(dire)))\n",
    "    actrsim = len(set(testrow_actr)&set(actr)) / float(len(set(testrow_actr) | set(actr)))\n",
    "    budgetsim = 1-abs((float(row.budget) - float(test_row.budget))/20)\n",
    "    #print(budgetsim)\n",
    "    score = (0.2*goodallsim)+(0.25*gensim)+(0.15*dirsim)+(0.2*actrsim)+(0.2*budgetsim)\n",
    "    similarity_dict[index] = score\n",
    "    \n",
    "#print(simdict)"
   ]
  },
  {
   "cell_type": "code",
   "execution_count": 47,
   "metadata": {},
   "outputs": [
    {
     "data": {
      "text/plain": [
       "100"
      ]
     },
     "execution_count": 47,
     "metadata": {},
     "output_type": "execute_result"
    }
   ],
   "source": [
    "## get the id of row with max similarity score\n",
    "max(similarity_dict, key=similarity_dict.get)"
   ]
  },
  {
   "cell_type": "code",
   "execution_count": 48,
   "metadata": {},
   "outputs": [
    {
     "data": {
      "text/plain": [
       "title                  Batman: The Killing Joke\n",
       "production              Warner Bros. Animation \n",
       "release_year                               2016\n",
       "genre1                               Animation \n",
       "genre2                                  Action \n",
       "genre3                                    Crime\n",
       "director1                           Sam Liu (I)\n",
       "director2                                   NaN\n",
       "actor1                             Kevin Conroy\n",
       "actor2                              Mark Hamill\n",
       "actor3                              Tara Strong\n",
       "budget                                      3.5\n",
       "production_country                           US\n",
       "Name: 100, dtype: object"
      ]
     },
     "execution_count": 48,
     "metadata": {},
     "output_type": "execute_result"
    }
   ],
   "source": [
    "data.iloc[100]"
   ]
  },
  {
   "cell_type": "markdown",
   "metadata": {},
   "source": [
    "# Method 2: Using CountVectorizer and Cosine Similarity(budget not considered)"
   ]
  },
  {
   "cell_type": "code",
   "execution_count": 49,
   "metadata": {
    "collapsed": true
   },
   "outputs": [],
   "source": [
    "df = pd.read_csv('movie_prediction_data.csv')"
   ]
  },
  {
   "cell_type": "code",
   "execution_count": 50,
   "metadata": {},
   "outputs": [
    {
     "data": {
      "text/plain": [
       "(8070, 13)"
      ]
     },
     "execution_count": 50,
     "metadata": {},
     "output_type": "execute_result"
    }
   ],
   "source": [
    "df.shape"
   ]
  },
  {
   "cell_type": "code",
   "execution_count": 51,
   "metadata": {
    "collapsed": true
   },
   "outputs": [],
   "source": [
    "from ast import literal_eval\n",
    "from sklearn.feature_extraction.text import CountVectorizer\n",
    "from sklearn.metrics.pairwise import cosine_similarity\n",
    "from nltk.corpus import wordnet"
   ]
  },
  {
   "cell_type": "code",
   "execution_count": null,
   "metadata": {
    "collapsed": true
   },
   "outputs": [],
   "source": [
    "## Merging all genres, directors and actors together respectively"
   ]
  },
  {
   "cell_type": "code",
   "execution_count": 52,
   "metadata": {
    "collapsed": true
   },
   "outputs": [],
   "source": [
    "df['genres']=df['genre1'].astype(str)+','+df['genre2'].astype(str)+','+df['genre3'].astype(str)"
   ]
  },
  {
   "cell_type": "code",
   "execution_count": 53,
   "metadata": {
    "collapsed": true
   },
   "outputs": [],
   "source": [
    "df['directors']=df['director1'].astype(str)+','+df['director2'].astype(str)"
   ]
  },
  {
   "cell_type": "code",
   "execution_count": 54,
   "metadata": {
    "collapsed": true
   },
   "outputs": [],
   "source": [
    "df['actors']=df['actor1'].astype(str)+','+df['actor2'].astype(str)+','+df['actor3'].astype(str)"
   ]
  },
  {
   "cell_type": "code",
   "execution_count": null,
   "metadata": {
    "collapsed": true
   },
   "outputs": [],
   "source": [
    "## Dropping the individual columns after merging"
   ]
  },
  {
   "cell_type": "code",
   "execution_count": 55,
   "metadata": {
    "collapsed": true
   },
   "outputs": [],
   "source": [
    "df.drop(['genre1','genre2','genre3','director1','director2','actor1','actor2','actor3'], axis=1, inplace=True)"
   ]
  },
  {
   "cell_type": "code",
   "execution_count": null,
   "metadata": {
    "collapsed": true
   },
   "outputs": [],
   "source": [
    "## Converting the actor names to lowercase and also stripping space between firstname and lastname"
   ]
  },
  {
   "cell_type": "code",
   "execution_count": 56,
   "metadata": {
    "collapsed": true
   },
   "outputs": [],
   "source": [
    "df['actors'] = df['actors'].astype('str').apply(lambda x: str.lower(x.replace(\" \", \"\")))"
   ]
  },
  {
   "cell_type": "code",
   "execution_count": 57,
   "metadata": {
    "collapsed": true
   },
   "outputs": [],
   "source": [
    "df['genres'] = df['genres'].apply(lambda x: str.lower(x.replace(\" \", \"\")))"
   ]
  },
  {
   "cell_type": "code",
   "execution_count": 63,
   "metadata": {
    "collapsed": true
   },
   "outputs": [],
   "source": [
    "df['directors'] = df['directors'].apply(lambda x: str.lower(x.replace(\" \", \"\")))"
   ]
  },
  {
   "cell_type": "code",
   "execution_count": 58,
   "metadata": {
    "collapsed": true
   },
   "outputs": [],
   "source": [
    "df['production'] = df['production'].astype(str).apply(lambda x: str.lower(x.replace(\" \", \"\")))"
   ]
  },
  {
   "cell_type": "code",
   "execution_count": 59,
   "metadata": {
    "collapsed": true
   },
   "outputs": [],
   "source": [
    "df['production_country'] = df['production_country'].astype(str).apply(lambda x: str.lower(x.replace(\" \", \"\")))"
   ]
  },
  {
   "cell_type": "code",
   "execution_count": null,
   "metadata": {
    "collapsed": true
   },
   "outputs": [],
   "source": [
    "## Creating tokens of all columns "
   ]
  },
  {
   "cell_type": "code",
   "execution_count": 64,
   "metadata": {
    "collapsed": true
   },
   "outputs": [],
   "source": [
    "df['soup'] = df['actors'] +\" \"+ df['directors'] +\" \"+ df['genres']+\" \"+df['production']+\" \"+df['production_country']"
   ]
  },
  {
   "cell_type": "code",
   "execution_count": 65,
   "metadata": {
    "collapsed": true
   },
   "outputs": [],
   "source": [
    "df['soup'] = df['soup'].apply(lambda x: x.replace(\",\",\" \"))"
   ]
  },
  {
   "cell_type": "code",
   "execution_count": 66,
   "metadata": {},
   "outputs": [
    {
     "data": {
      "text/plain": [
       "'kristenbell nicolascage tarastrong aaronhorvath peterridamichail animation action comedy warnerbros.animation us'"
      ]
     },
     "execution_count": 66,
     "metadata": {},
     "output_type": "execute_result"
    }
   ],
   "source": [
    "df.soup[0]"
   ]
  },
  {
   "cell_type": "code",
   "execution_count": 67,
   "metadata": {
    "collapsed": true
   },
   "outputs": [],
   "source": [
    "## Make a count matrix of all tokens"
   ]
  },
  {
   "cell_type": "code",
   "execution_count": 68,
   "metadata": {
    "collapsed": true
   },
   "outputs": [],
   "source": [
    "count = CountVectorizer(analyzer='word',ngram_range=(1, 2),min_df=0, stop_words='english')"
   ]
  },
  {
   "cell_type": "code",
   "execution_count": 69,
   "metadata": {
    "collapsed": true
   },
   "outputs": [],
   "source": [
    "count_matrix = count.fit_transform(df['soup'])"
   ]
  },
  {
   "cell_type": "code",
   "execution_count": 70,
   "metadata": {
    "collapsed": true
   },
   "outputs": [],
   "source": [
    "## Calculate cosine similarity of count matrix"
   ]
  },
  {
   "cell_type": "code",
   "execution_count": 71,
   "metadata": {
    "collapsed": true
   },
   "outputs": [],
   "source": [
    "cosine_sim = cosine_similarity(count_matrix, count_matrix)"
   ]
  },
  {
   "cell_type": "code",
   "execution_count": 72,
   "metadata": {
    "collapsed": true
   },
   "outputs": [],
   "source": [
    "df = df.reset_index()\n",
    "titles = df['title']\n",
    "indices = pd.Series(df.index, index=df['title'])"
   ]
  },
  {
   "cell_type": "code",
   "execution_count": 73,
   "metadata": {
    "collapsed": true
   },
   "outputs": [],
   "source": [
    "def get_recommendations(title):\n",
    "    idx = indices[title]\n",
    "    sim_scores = list(enumerate(cosine_sim[idx]))\n",
    "    sim_scores = sorted(sim_scores, key=lambda x: x[1], reverse=True)\n",
    "    sim_scores = sim_scores[1:31]\n",
    "    movie_indices = [i[0] for i in sim_scores]\n",
    "    return titles.iloc[movie_indices]"
   ]
  },
  {
   "cell_type": "code",
   "execution_count": 74,
   "metadata": {
    "collapsed": true
   },
   "outputs": [],
   "source": [
    "## Testing the results"
   ]
  },
  {
   "cell_type": "code",
   "execution_count": 75,
   "metadata": {},
   "outputs": [
    {
     "data": {
      "text/plain": [
       "599              Armenian Haunting\n",
       "673                      SheChotic\n",
       "2947                       #Horror\n",
       "3000    The Curse of Downers Grove\n",
       "3741                        Everto\n",
       "Name: title, dtype: object"
      ]
     },
     "execution_count": 75,
     "metadata": {},
     "output_type": "execute_result"
    }
   ],
   "source": [
    "## Get top 5 recommendations for given movie\n",
    "get_recommendations('Hereditary').head(5)"
   ]
  },
  {
   "cell_type": "code",
   "execution_count": 76,
   "metadata": {},
   "outputs": [
    {
     "data": {
      "text/plain": [
       "index                                                               599\n",
       "title                                                 Armenian Haunting\n",
       "production                                           reelnightmarefilms\n",
       "release_year                                                       2018\n",
       "budget                                                             0.03\n",
       "production_country                                                   us\n",
       "genres                                             drama,horror,mystery\n",
       "directors                                          artarutyunyan(i),nan\n",
       "actors                vanehassadourian,jaydersahagian,kylepatrickdar...\n",
       "soup                  vanehassadourian jaydersahagian kylepatrickdar...\n",
       "Name: 599, dtype: object"
      ]
     },
     "execution_count": 76,
     "metadata": {},
     "output_type": "execute_result"
    }
   ],
   "source": [
    "df.iloc[599]"
   ]
  },
  {
   "cell_type": "markdown",
   "metadata": {},
   "source": [
    "# Method 3: Same as above by taking budget into consideration (Recommended)"
   ]
  },
  {
   "cell_type": "code",
   "execution_count": 81,
   "metadata": {
    "collapsed": true
   },
   "outputs": [],
   "source": [
    "## Takes the top 25 similar movies and calculates the budget difference and returns the top 10 movies \n",
    "## having minimum budget difference. The similarity will give better results when we use plot keywords and rating too.\n",
    "def recommender_by_budget(title):\n",
    "    idx = indices[title]\n",
    "    #print(idx)\n",
    "    sim_scores = list(enumerate(cosine_sim[idx]))\n",
    "    sim_scores = sorted(sim_scores, key=lambda x: x[1], reverse=True)\n",
    "    sim_scores = sim_scores[1:26]\n",
    "    movie_indices = [i[0] for i in sim_scores]\n",
    "    \n",
    "    recommended_movies = df.iloc[movie_indices][['title','budget']]\n",
    "    movie = df.iloc[idx][['title','budget']]\n",
    "    movie_budget = float(movie.budget)\n",
    "    recommended_movies['budget_sim'] = recommended_movies['budget'].apply(lambda x: 1-abs((x-movie_budget)/20))\n",
    "    recommended_movies = recommended_movies.sort_values('budget_sim', ascending=False).head(10)\n",
    "    return recommended_movies.title"
   ]
  },
  {
   "cell_type": "code",
   "execution_count": 85,
   "metadata": {},
   "outputs": [
    {
     "data": {
      "text/plain": [
       "104                          Woody Woodpecker\n",
       "211                         Norm of the North\n",
       "252             Bad Kids of Crestview Academy\n",
       "7589                            November 10th\n",
       "3044       Alpha and Omega 5: Family Vacation\n",
       "2961          Dragon Ball Z: Resurrection 'F'\n",
       "1634     Three heroes and the King of the Sea\n",
       "169                             Don't Kill It\n",
       "222     Batman: Return of the Caped Crusaders\n",
       "101                  Batman: The Killing Joke\n",
       "Name: title, dtype: object"
      ]
     },
     "execution_count": 85,
     "metadata": {},
     "output_type": "execute_result"
    }
   ],
   "source": [
    "recommender_by_budget('Teen Titans Go! To the Movies')"
   ]
  },
  {
   "cell_type": "code",
   "execution_count": 86,
   "metadata": {},
   "outputs": [
    {
     "data": {
      "text/plain": [
       "index                                                               104\n",
       "title                                                  Woody Woodpecker\n",
       "production                                   universal1440entertainment\n",
       "release_year                                                       2017\n",
       "budget                                                               10\n",
       "production_country                                                   us\n",
       "genres                                          animation,comedy,family\n",
       "directors                                                  alexzamm,nan\n",
       "actors                            timothyomundson,thailaayala,ericbauza\n",
       "soup                  timothyomundson thailaayala ericbauza alexzamm...\n",
       "Name: 104, dtype: object"
      ]
     },
     "execution_count": 86,
     "metadata": {},
     "output_type": "execute_result"
    }
   ],
   "source": [
    "df.iloc[104]"
   ]
  },
  {
   "cell_type": "code",
   "execution_count": null,
   "metadata": {
    "collapsed": true
   },
   "outputs": [],
   "source": []
  }
 ],
 "metadata": {
  "kernelspec": {
   "display_name": "Python [conda env:Anaconda3]",
   "language": "python",
   "name": "conda-env-Anaconda3-py"
  },
  "language_info": {
   "codemirror_mode": {
    "name": "ipython",
    "version": 3
   },
   "file_extension": ".py",
   "mimetype": "text/x-python",
   "name": "python",
   "nbconvert_exporter": "python",
   "pygments_lexer": "ipython3",
   "version": "3.6.3"
  }
 },
 "nbformat": 4,
 "nbformat_minor": 2
}
